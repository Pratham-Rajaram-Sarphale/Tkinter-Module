{
 "cells": [
  {
   "cell_type": "code",
   "execution_count": 1,
   "id": "a1700f89",
   "metadata": {},
   "outputs": [],
   "source": [
    "from tkinter import *"
   ]
  },
  {
   "cell_type": "code",
   "execution_count": 12,
   "id": "809c6353",
   "metadata": {},
   "outputs": [],
   "source": [
    "prs=Tk()\n",
    "prs.geometry('600x300')\n",
    "prs.minsize(200,200)#fixes window minimum size\n",
    "prs.maxsize(700,400)#fixes window maximum size\n",
    "prs.mainloop()"
   ]
  },
  {
   "cell_type": "code",
   "execution_count": 25,
   "id": "6cce99ef",
   "metadata": {},
   "outputs": [],
   "source": [
    "prs=Tk()\n",
    "prs.geometry('600x300')\n",
    "prs.minsize(200,200)#fixes window minimum size\n",
    "prs.maxsize(700,400)#fixes window maximum size\n",
    "lab=Label(text=\"Pratham R. Sarphale\")\n",
    "lab.pack()\n",
    "prs.mainloop()"
   ]
  },
  {
   "cell_type": "code",
   "execution_count": 32,
   "id": "1bc7febd",
   "metadata": {},
   "outputs": [],
   "source": [
    "prs=Tk()\n",
    "prs.geometry('600x300')\n",
    "prs.minsize(200,200)#fixes window minimum size\n",
    "prs.maxsize(700,400)#fixes window maximum size\n",
    "f1=Frame(prs,bg='Grey',borderwidth=8,relief='groove')\n",
    "f1.pack()\n",
    "lab=Label(f1,text=\"Pratham R. Sarphale\")\n",
    "lab.pack()\n",
    "prs.mainloop()"
   ]
  },
  {
   "cell_type": "code",
   "execution_count": 33,
   "id": "3391280b",
   "metadata": {},
   "outputs": [],
   "source": [
    "prs=Tk()\n",
    "prs.geometry('600x300')\n",
    "prs.minsize(200,200)#fixes window minimum size\n",
    "prs.maxsize(700,400)#fixes window maximum size\n",
    "f1=Frame(prs,bg='Grey',borderwidth=8,relief='sunken')\n",
    "f1.pack()\n",
    "lab=Label(f1,text=\"Pratham R. Sarphale\")\n",
    "lab.pack()\n",
    "prs.mainloop()"
   ]
  },
  {
   "cell_type": "code",
   "execution_count": 41,
   "id": "a1a5aebe",
   "metadata": {},
   "outputs": [],
   "source": [
    "prs=Tk()\n",
    "prs.geometry('600x300')\n",
    "prs.minsize(200,200)#fixes window minimum size\n",
    "prs.maxsize(700,400)#fixes window maximum size\n",
    "f1=Frame(prs,bg='Yellow',borderwidth=8,relief='ridge')\n",
    "f1.pack()\n",
    "lab=Label(f1,text=\"Pratham R. Sarphale\")\n",
    "lab.pack()\n",
    "prs.mainloop()"
   ]
  },
  {
   "cell_type": "code",
   "execution_count": 45,
   "id": "cb07df68",
   "metadata": {},
   "outputs": [],
   "source": [
    "prs=Tk()\n",
    "prs.geometry('600x300')\n",
    "prs.minsize(200,200)#fixes window minimum size\n",
    "prs.maxsize(700,400)#fixes window maximum size\n",
    "f1=Frame(prs,bg='grey',borderwidth=8,relief='raised')\n",
    "f1.pack()\n",
    "lab=Label(f1,text=\"Pratham R. Sarphale\")\n",
    "lab.pack()\n",
    "prs.mainloop()"
   ]
  },
  {
   "cell_type": "code",
   "execution_count": 84,
   "id": "061c1cf2",
   "metadata": {},
   "outputs": [],
   "source": [
    "prs=Tk()\n",
    "prs.geometry('600x300')\n",
    "prs.minsize(200,200)#fixes window minimum size\n",
    "prs.maxsize(700,400)#fixes window maximum size\n",
    "f1=Frame(prs,bg='Blue',borderwidth=8,relief='groove')\n",
    "f1.pack(side=TOP, fill = 'x')\n",
    "lab=Label(f1,text=\"Saanve\")\n",
    "lab.pack()\n",
    "f2=Frame(prs,bg='Grey',borderwidth=8,relief='raised')\n",
    "f2.pack(side=BOTTOM)\n",
    "lab1=Label(f2,text=\"Hrishikesh\")\n",
    "lab1.pack()\n",
    "f3=Frame(prs,bg='Blue',borderwidth=8,relief='groove')\n",
    "f3.pack(side=LEFT, fill = 'y')\n",
    "lab2=Label(f3,text=\"Suraj\")\n",
    "lab2.pack()\n",
    "f4=Frame(prs,bg='Grey',borderwidth=8,relief='groove')\n",
    "f4.pack(side=RIGHT)\n",
    "lab3=Label(f4,text=\"Pratham\")\n",
    "lab3.pack()\n",
    "prs.mainloop()"
   ]
  },
  {
   "cell_type": "code",
   "execution_count": 87,
   "id": "ba9d8cac",
   "metadata": {},
   "outputs": [],
   "source": [
    "prs=Tk()\n",
    "prs.geometry('600x300')\n",
    "prs.minsize(200,200)#fixes window minimum size\n",
    "prs.maxsize(700,400)#fixes window maximum size\n",
    "f1=Frame(prs,bg='grey',borderwidth=8,relief='raised')\n",
    "f1.pack()\n",
    "lab=Label(f1,text=\"Pratham R. Sarphale\", font = 'Helvetica 16 bold', fg = 'Blue',pady = 22, padx =20)\n",
    "lab.pack()\n",
    "prs.mainloop()"
   ]
  },
  {
   "cell_type": "code",
   "execution_count": 33,
   "id": "dd1cfd62",
   "metadata": {},
   "outputs": [],
   "source": [
    "from tkinter import *\n",
    "prs=Tk()\n",
    "prs.geometry('700x400')\n",
    "prs.maxsize(800,500)\n",
    "prs.minsize(600,300)\n",
    "lab=Label(text='My name is Pratham R. Sarphale. My age is 19. My roll no. is 21 and I am studying IT.',\n",
    "          relief='ridge',bg='YELLOW')\n",
    "lab.pack(side=TOP)\n",
    "prs.mainloop()"
   ]
  }
 ],
 "metadata": {
  "kernelspec": {
   "display_name": "Python 3 (ipykernel)",
   "language": "python",
   "name": "python3"
  },
  "language_info": {
   "codemirror_mode": {
    "name": "ipython",
    "version": 3
   },
   "file_extension": ".py",
   "mimetype": "text/x-python",
   "name": "python",
   "nbconvert_exporter": "python",
   "pygments_lexer": "ipython3",
   "version": "3.9.7"
  }
 },
 "nbformat": 4,
 "nbformat_minor": 5
}
