{
 "cells": [
  {
   "cell_type": "code",
   "execution_count": 6,
   "id": "b2637ac1",
   "metadata": {},
   "outputs": [],
   "source": [
    "from tkinter import*\n",
    "root=Tk()\n",
    "\n",
    "def myfunc():\n",
    "    print(\"File Saved\")\n",
    "root.title(\"Notepad\")\n",
    "root.geometry(\"400x400\")\n",
    "\n",
    "mainmenu=Menu(root)\n",
    "m1=Menu(mainmenu,tearoff=0)\n",
    "m1.add_command(label=\"New\",command=myfunc)\n",
    "m1.add_command(label=\"Save as\",command=myfunc)\n",
    "m1.add_separator()\n",
    "m1.add_command(label=\"Page setup\",command=myfunc)\n",
    "m1.add_command(label=\"Print\",command=myfunc)\n",
    "root.config(menu=mainmenu)\n",
    "mainmenu.add_cascade(label=\"File\",menu=m1)\n",
    "\n",
    "m2=Menu(mainmenu,tearoff=0)\n",
    "m2.add_command(label=\"Cut\",command=myfunc)\n",
    "m2.add_command(label=\"Paste\",command=myfunc)\n",
    "m2.add_separator()\n",
    "m2.add_command(label=\"Go to\",command=myfunc)\n",
    "m2.add_command(label=\"Select all\",command=myfunc)\n",
    "root.config(menu=mainmenu)\n",
    "mainmenu.add_cascade(label=\"Edit\",menu=m2)\n",
    "\n",
    "m3=Menu(mainmenu,tearoff=0)\n",
    "m3.add_command(label=\"Zoom\",command=myfunc)\n",
    "m3.add_command(label=\"Status bar\",command=myfunc)\n",
    "m3.add_separator()\n",
    "m3.add_command(label=\"Word wrap\",command=myfunc)\n",
    "root.config(menu=mainmenu)\n",
    "mainmenu.add_cascade(label=\"View\",menu=m3)\n",
    "\n",
    "root.mainloop()"
   ]
  }
 ],
 "metadata": {
  "kernelspec": {
   "display_name": "Python 3 (ipykernel)",
   "language": "python",
   "name": "python3"
  },
  "language_info": {
   "codemirror_mode": {
    "name": "ipython",
    "version": 3
   },
   "file_extension": ".py",
   "mimetype": "text/x-python",
   "name": "python",
   "nbconvert_exporter": "python",
   "pygments_lexer": "ipython3",
   "version": "3.9.7"
  }
 },
 "nbformat": 4,
 "nbformat_minor": 5
}
