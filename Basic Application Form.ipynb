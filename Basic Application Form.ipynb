{
 "cells": [
  {
   "cell_type": "code",
   "execution_count": 1,
   "id": "64870fc7",
   "metadata": {},
   "outputs": [],
   "source": [
    "#Basic Application Form\n",
    "from tkinter import *\n",
    "def fun():\n",
    "    print(\"Application Submitted Successfully\")\n",
    "prs=Tk()\n",
    "f1=Frame(prs)\n",
    "f1.pack(side=TOP)\n",
    "lab1=Label(f1,text=\"Your name: \",font='helvtica 20 italic bold',fg='Red')\n",
    "lab1.grid(row=1,column=1)\n",
    "ent1=Entry(f1)\n",
    "ent1.grid(row=1,column=2)\n",
    "lab2=Label(f1,text=\"Age: \",font='helvtica 20 italic bold',fg='Red')\n",
    "lab2.grid(row=3,column=1)\n",
    "ent2=Entry(f1)\n",
    "ent2.grid(row=3,column=2)\n",
    "lab3=Label(f1,text=\"Nationality: \",font='helvtica 20 italic bold',fg='Red')\n",
    "lab3.grid(row=5,column=1)\n",
    "ent3=Entry(f1)\n",
    "ent3.grid(row=5,column=2)\n",
    "lab4=Label(f1,text=\"City: \",font='helvtica 20 italic bold',fg='Red')\n",
    "lab4.grid(row=7,column=1)\n",
    "ent4=Entry(f1)\n",
    "ent4.grid(row=7,column=2)\n",
    "lab5=Label(f1,text=\"Qualification: \",font='helvtica 20 italic bold',fg='Red')\n",
    "lab5.grid(row=9,column=1)\n",
    "ent5=Entry(f1)\n",
    "ent5.grid(row=9,column=2)\n",
    "b1=Button(f1,text='Submit',font=\"Helvtica 18 bold italic\",command=fun,bg=\"#000fff000\",relief=\"ridge\")\n",
    "b1.grid(row=11,column=2)\n",
    "prs.mainloop()"
   ]
  }
 ],
 "metadata": {
  "kernelspec": {
   "display_name": "Python 3 (ipykernel)",
   "language": "python",
   "name": "python3"
  },
  "language_info": {
   "codemirror_mode": {
    "name": "ipython",
    "version": 3
   },
   "file_extension": ".py",
   "mimetype": "text/x-python",
   "name": "python",
   "nbconvert_exporter": "python",
   "pygments_lexer": "ipython3",
   "version": "3.9.7"
  }
 },
 "nbformat": 4,
 "nbformat_minor": 5
}
